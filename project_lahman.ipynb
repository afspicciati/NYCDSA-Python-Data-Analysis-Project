{
 "cells": [
  {
   "cell_type": "code",
   "execution_count": 6,
   "metadata": {},
   "outputs": [],
   "source": [
    "import numpy as np\n",
    "import pandas as pd\n",
    "import matplotlib.pyplot as plt\n",
    "import missingno\n",
    "\n",
    "pd.set_option('display.max_columns', None)\n"
   ]
  },
  {
   "attachments": {},
   "cell_type": "markdown",
   "metadata": {},
   "source": [
    "### Data Load + Exploratory Analysis\n",
    "\n",
    "https://www.seanlahman.com/baseball-archive/statistics"
   ]
  },
  {
   "cell_type": "code",
   "execution_count": 2,
   "metadata": {},
   "outputs": [],
   "source": [
    "people = pd.read_csv('LahmanData2023\\core\\People.csv')\n",
    "salary = pd.read_csv('LahmanData2023\\contrib\\Salaries.csv')\n",
    "batting = pd.read_csv('LahmanData2023\\core\\Batting.csv')\n",
    "pitching = pd.read_csv('LahmanData2023\\core\\Pitching.csv')\n",
    "teams = pd.read_csv('LahmanData2023\\core\\Teams.csv')\n",
    "\n",
    "#get unique dictionary of team to franchise IDs to merge into following dataframes\n",
    "franch_IDs = []\n",
    "for team in teams['teamID'].unique():\n",
    "    franch_IDs.append(teams[teams['teamID'] == team]['franchID'].iloc(0)[0])\n",
    "\n",
    "franchises = pd.DataFrame(list(zip(teams['teamID'].unique(),franch_IDs)), columns=['teamID','franchID'])"
   ]
  },
  {
   "cell_type": "code",
   "execution_count": 3,
   "metadata": {},
   "outputs": [],
   "source": [
    "player_seasons = people.merge(salary,on='playerID').drop(\n",
    "    columns=['deathYear','deathMonth', 'deathDay','deathCountry', 'deathState', 'deathCity'])\n",
    "\n",
    "player_seasons = player_seasons.merge(batting.drop(columns = ['teamID','lgID']), on=[\"playerID\",'yearID']).merge(franchises, on='teamID')"
   ]
  },
  {
   "cell_type": "code",
   "execution_count": 4,
   "metadata": {},
   "outputs": [
    {
     "data": {
      "text/html": [
       "<div>\n",
       "<style scoped>\n",
       "    .dataframe tbody tr th:only-of-type {\n",
       "        vertical-align: middle;\n",
       "    }\n",
       "\n",
       "    .dataframe tbody tr th {\n",
       "        vertical-align: top;\n",
       "    }\n",
       "\n",
       "    .dataframe thead th {\n",
       "        text-align: right;\n",
       "    }\n",
       "</style>\n",
       "<table border=\"1\" class=\"dataframe\">\n",
       "  <thead>\n",
       "    <tr style=\"text-align: right;\">\n",
       "      <th></th>\n",
       "      <th>playerID</th>\n",
       "      <th>yearID</th>\n",
       "      <th>stint</th>\n",
       "      <th>teamID</th>\n",
       "      <th>lgID</th>\n",
       "      <th>W</th>\n",
       "      <th>L</th>\n",
       "      <th>G</th>\n",
       "      <th>GS</th>\n",
       "      <th>CG</th>\n",
       "      <th>...</th>\n",
       "      <th>IBB</th>\n",
       "      <th>WP</th>\n",
       "      <th>HBP</th>\n",
       "      <th>BK</th>\n",
       "      <th>BFP</th>\n",
       "      <th>GF</th>\n",
       "      <th>R</th>\n",
       "      <th>SH</th>\n",
       "      <th>SF</th>\n",
       "      <th>GIDP</th>\n",
       "    </tr>\n",
       "  </thead>\n",
       "  <tbody>\n",
       "    <tr>\n",
       "      <th>1</th>\n",
       "      <td>brainas01</td>\n",
       "      <td>1871</td>\n",
       "      <td>1</td>\n",
       "      <td>WS3</td>\n",
       "      <td>NaN</td>\n",
       "      <td>12</td>\n",
       "      <td>15</td>\n",
       "      <td>30</td>\n",
       "      <td>30</td>\n",
       "      <td>30</td>\n",
       "      <td>...</td>\n",
       "      <td>NaN</td>\n",
       "      <td>7</td>\n",
       "      <td>NaN</td>\n",
       "      <td>0</td>\n",
       "      <td>1291.0</td>\n",
       "      <td>0</td>\n",
       "      <td>292</td>\n",
       "      <td>NaN</td>\n",
       "      <td>NaN</td>\n",
       "      <td>NaN</td>\n",
       "    </tr>\n",
       "    <tr>\n",
       "      <th>20</th>\n",
       "      <td>brainas01</td>\n",
       "      <td>1872</td>\n",
       "      <td>1</td>\n",
       "      <td>WS3</td>\n",
       "      <td>NaN</td>\n",
       "      <td>2</td>\n",
       "      <td>7</td>\n",
       "      <td>9</td>\n",
       "      <td>9</td>\n",
       "      <td>9</td>\n",
       "      <td>...</td>\n",
       "      <td>NaN</td>\n",
       "      <td>12</td>\n",
       "      <td>NaN</td>\n",
       "      <td>0</td>\n",
       "      <td>449.0</td>\n",
       "      <td>0</td>\n",
       "      <td>140</td>\n",
       "      <td>NaN</td>\n",
       "      <td>NaN</td>\n",
       "      <td>NaN</td>\n",
       "    </tr>\n",
       "    <tr>\n",
       "      <th>21</th>\n",
       "      <td>brainas01</td>\n",
       "      <td>1872</td>\n",
       "      <td>2</td>\n",
       "      <td>MID</td>\n",
       "      <td>NaN</td>\n",
       "      <td>0</td>\n",
       "      <td>2</td>\n",
       "      <td>2</td>\n",
       "      <td>2</td>\n",
       "      <td>1</td>\n",
       "      <td>...</td>\n",
       "      <td>NaN</td>\n",
       "      <td>0</td>\n",
       "      <td>NaN</td>\n",
       "      <td>0</td>\n",
       "      <td>50.0</td>\n",
       "      <td>0</td>\n",
       "      <td>17</td>\n",
       "      <td>NaN</td>\n",
       "      <td>NaN</td>\n",
       "      <td>NaN</td>\n",
       "    </tr>\n",
       "    <tr>\n",
       "      <th>44</th>\n",
       "      <td>brainas01</td>\n",
       "      <td>1873</td>\n",
       "      <td>1</td>\n",
       "      <td>BL1</td>\n",
       "      <td>NaN</td>\n",
       "      <td>5</td>\n",
       "      <td>7</td>\n",
       "      <td>14</td>\n",
       "      <td>14</td>\n",
       "      <td>12</td>\n",
       "      <td>...</td>\n",
       "      <td>NaN</td>\n",
       "      <td>3</td>\n",
       "      <td>NaN</td>\n",
       "      <td>0</td>\n",
       "      <td>568.0</td>\n",
       "      <td>0</td>\n",
       "      <td>139</td>\n",
       "      <td>NaN</td>\n",
       "      <td>NaN</td>\n",
       "      <td>NaN</td>\n",
       "    </tr>\n",
       "    <tr>\n",
       "      <th>70</th>\n",
       "      <td>brainas01</td>\n",
       "      <td>1874</td>\n",
       "      <td>1</td>\n",
       "      <td>BL1</td>\n",
       "      <td>NaN</td>\n",
       "      <td>5</td>\n",
       "      <td>22</td>\n",
       "      <td>30</td>\n",
       "      <td>27</td>\n",
       "      <td>25</td>\n",
       "      <td>...</td>\n",
       "      <td>NaN</td>\n",
       "      <td>19</td>\n",
       "      <td>NaN</td>\n",
       "      <td>0</td>\n",
       "      <td>1267.0</td>\n",
       "      <td>4</td>\n",
       "      <td>329</td>\n",
       "      <td>NaN</td>\n",
       "      <td>NaN</td>\n",
       "      <td>NaN</td>\n",
       "    </tr>\n",
       "  </tbody>\n",
       "</table>\n",
       "<p>5 rows × 30 columns</p>\n",
       "</div>"
      ],
      "text/plain": [
       "     playerID  yearID  stint teamID lgID   W   L   G  GS  CG  ...  IBB  WP  \\\n",
       "1   brainas01    1871      1    WS3  NaN  12  15  30  30  30  ...  NaN   7   \n",
       "20  brainas01    1872      1    WS3  NaN   2   7   9   9   9  ...  NaN  12   \n",
       "21  brainas01    1872      2    MID  NaN   0   2   2   2   1  ...  NaN   0   \n",
       "44  brainas01    1873      1    BL1  NaN   5   7  14  14  12  ...  NaN   3   \n",
       "70  brainas01    1874      1    BL1  NaN   5  22  30  27  25  ...  NaN  19   \n",
       "\n",
       "    HBP  BK     BFP  GF    R  SH  SF  GIDP  \n",
       "1   NaN   0  1291.0   0  292 NaN NaN   NaN  \n",
       "20  NaN   0   449.0   0  140 NaN NaN   NaN  \n",
       "21  NaN   0    50.0   0   17 NaN NaN   NaN  \n",
       "44  NaN   0   568.0   0  139 NaN NaN   NaN  \n",
       "70  NaN   0  1267.0   4  329 NaN NaN   NaN  \n",
       "\n",
       "[5 rows x 30 columns]"
      ]
     },
     "execution_count": 4,
     "metadata": {},
     "output_type": "execute_result"
    }
   ],
   "source": [
    "pitching[pitching['playerID'] == 'brainas01']"
   ]
  },
  {
   "cell_type": "code",
   "execution_count": 5,
   "metadata": {},
   "outputs": [
    {
     "data": {
      "text/html": [
       "<div>\n",
       "<style scoped>\n",
       "    .dataframe tbody tr th:only-of-type {\n",
       "        vertical-align: middle;\n",
       "    }\n",
       "\n",
       "    .dataframe tbody tr th {\n",
       "        vertical-align: top;\n",
       "    }\n",
       "\n",
       "    .dataframe thead th {\n",
       "        text-align: right;\n",
       "    }\n",
       "</style>\n",
       "<table border=\"1\" class=\"dataframe\">\n",
       "  <thead>\n",
       "    <tr style=\"text-align: right;\">\n",
       "      <th></th>\n",
       "      <th>playerID</th>\n",
       "      <th>yearID</th>\n",
       "      <th>stint</th>\n",
       "      <th>teamID</th>\n",
       "      <th>lgID</th>\n",
       "      <th>G</th>\n",
       "      <th>AB</th>\n",
       "      <th>R</th>\n",
       "      <th>H</th>\n",
       "      <th>2B</th>\n",
       "      <th>...</th>\n",
       "      <th>RBI</th>\n",
       "      <th>SB</th>\n",
       "      <th>CS</th>\n",
       "      <th>BB</th>\n",
       "      <th>SO</th>\n",
       "      <th>IBB</th>\n",
       "      <th>HBP</th>\n",
       "      <th>SH</th>\n",
       "      <th>SF</th>\n",
       "      <th>GIDP</th>\n",
       "    </tr>\n",
       "  </thead>\n",
       "  <tbody>\n",
       "    <tr>\n",
       "      <th>22</th>\n",
       "      <td>brainas01</td>\n",
       "      <td>1871</td>\n",
       "      <td>1</td>\n",
       "      <td>WS3</td>\n",
       "      <td>NaN</td>\n",
       "      <td>30</td>\n",
       "      <td>134</td>\n",
       "      <td>24</td>\n",
       "      <td>30</td>\n",
       "      <td>4</td>\n",
       "      <td>...</td>\n",
       "      <td>21.0</td>\n",
       "      <td>4.0</td>\n",
       "      <td>0.0</td>\n",
       "      <td>7</td>\n",
       "      <td>2.0</td>\n",
       "      <td>NaN</td>\n",
       "      <td>NaN</td>\n",
       "      <td>NaN</td>\n",
       "      <td>NaN</td>\n",
       "      <td>1.0</td>\n",
       "    </tr>\n",
       "    <tr>\n",
       "      <th>139</th>\n",
       "      <td>brainas01</td>\n",
       "      <td>1872</td>\n",
       "      <td>1</td>\n",
       "      <td>WS3</td>\n",
       "      <td>NaN</td>\n",
       "      <td>9</td>\n",
       "      <td>43</td>\n",
       "      <td>8</td>\n",
       "      <td>16</td>\n",
       "      <td>3</td>\n",
       "      <td>...</td>\n",
       "      <td>6.0</td>\n",
       "      <td>0.0</td>\n",
       "      <td>0.0</td>\n",
       "      <td>0</td>\n",
       "      <td>0.0</td>\n",
       "      <td>NaN</td>\n",
       "      <td>NaN</td>\n",
       "      <td>NaN</td>\n",
       "      <td>NaN</td>\n",
       "      <td>0.0</td>\n",
       "    </tr>\n",
       "    <tr>\n",
       "      <th>140</th>\n",
       "      <td>brainas01</td>\n",
       "      <td>1872</td>\n",
       "      <td>2</td>\n",
       "      <td>MID</td>\n",
       "      <td>NaN</td>\n",
       "      <td>6</td>\n",
       "      <td>25</td>\n",
       "      <td>2</td>\n",
       "      <td>5</td>\n",
       "      <td>0</td>\n",
       "      <td>...</td>\n",
       "      <td>1.0</td>\n",
       "      <td>0.0</td>\n",
       "      <td>0.0</td>\n",
       "      <td>1</td>\n",
       "      <td>0.0</td>\n",
       "      <td>NaN</td>\n",
       "      <td>NaN</td>\n",
       "      <td>NaN</td>\n",
       "      <td>NaN</td>\n",
       "      <td>0.0</td>\n",
       "    </tr>\n",
       "    <tr>\n",
       "      <th>292</th>\n",
       "      <td>brainas01</td>\n",
       "      <td>1873</td>\n",
       "      <td>1</td>\n",
       "      <td>BL1</td>\n",
       "      <td>NaN</td>\n",
       "      <td>16</td>\n",
       "      <td>69</td>\n",
       "      <td>18</td>\n",
       "      <td>18</td>\n",
       "      <td>1</td>\n",
       "      <td>...</td>\n",
       "      <td>9.0</td>\n",
       "      <td>0.0</td>\n",
       "      <td>0.0</td>\n",
       "      <td>0</td>\n",
       "      <td>2.0</td>\n",
       "      <td>NaN</td>\n",
       "      <td>NaN</td>\n",
       "      <td>NaN</td>\n",
       "      <td>NaN</td>\n",
       "      <td>0.0</td>\n",
       "    </tr>\n",
       "    <tr>\n",
       "      <th>412</th>\n",
       "      <td>brainas01</td>\n",
       "      <td>1874</td>\n",
       "      <td>1</td>\n",
       "      <td>BL1</td>\n",
       "      <td>NaN</td>\n",
       "      <td>47</td>\n",
       "      <td>196</td>\n",
       "      <td>19</td>\n",
       "      <td>47</td>\n",
       "      <td>3</td>\n",
       "      <td>...</td>\n",
       "      <td>8.0</td>\n",
       "      <td>0.0</td>\n",
       "      <td>3.0</td>\n",
       "      <td>2</td>\n",
       "      <td>3.0</td>\n",
       "      <td>NaN</td>\n",
       "      <td>NaN</td>\n",
       "      <td>NaN</td>\n",
       "      <td>NaN</td>\n",
       "      <td>3.0</td>\n",
       "    </tr>\n",
       "  </tbody>\n",
       "</table>\n",
       "<p>5 rows × 22 columns</p>\n",
       "</div>"
      ],
      "text/plain": [
       "      playerID  yearID  stint teamID lgID   G   AB   R   H  2B  ...   RBI  \\\n",
       "22   brainas01    1871      1    WS3  NaN  30  134  24  30   4  ...  21.0   \n",
       "139  brainas01    1872      1    WS3  NaN   9   43   8  16   3  ...   6.0   \n",
       "140  brainas01    1872      2    MID  NaN   6   25   2   5   0  ...   1.0   \n",
       "292  brainas01    1873      1    BL1  NaN  16   69  18  18   1  ...   9.0   \n",
       "412  brainas01    1874      1    BL1  NaN  47  196  19  47   3  ...   8.0   \n",
       "\n",
       "      SB   CS  BB   SO  IBB  HBP  SH  SF  GIDP  \n",
       "22   4.0  0.0   7  2.0  NaN  NaN NaN NaN   1.0  \n",
       "139  0.0  0.0   0  0.0  NaN  NaN NaN NaN   0.0  \n",
       "140  0.0  0.0   1  0.0  NaN  NaN NaN NaN   0.0  \n",
       "292  0.0  0.0   0  2.0  NaN  NaN NaN NaN   0.0  \n",
       "412  0.0  3.0   2  3.0  NaN  NaN NaN NaN   3.0  \n",
       "\n",
       "[5 rows x 22 columns]"
      ]
     },
     "execution_count": 5,
     "metadata": {},
     "output_type": "execute_result"
    }
   ],
   "source": [
    "batting[batting['playerID'] == 'brainas01']"
   ]
  },
  {
   "cell_type": "code",
   "execution_count": 7,
   "metadata": {},
   "outputs": [
    {
     "data": {
      "text/html": [
       "<div>\n",
       "<style scoped>\n",
       "    .dataframe tbody tr th:only-of-type {\n",
       "        vertical-align: middle;\n",
       "    }\n",
       "\n",
       "    .dataframe tbody tr th {\n",
       "        vertical-align: top;\n",
       "    }\n",
       "\n",
       "    .dataframe thead th {\n",
       "        text-align: right;\n",
       "    }\n",
       "</style>\n",
       "<table border=\"1\" class=\"dataframe\">\n",
       "  <thead>\n",
       "    <tr style=\"text-align: right;\">\n",
       "      <th></th>\n",
       "      <th>playerID</th>\n",
       "      <th>birthYear</th>\n",
       "      <th>birthMonth</th>\n",
       "      <th>birthDay</th>\n",
       "      <th>birthCountry</th>\n",
       "      <th>birthState</th>\n",
       "      <th>birthCity</th>\n",
       "      <th>nameFirst</th>\n",
       "      <th>nameLast</th>\n",
       "      <th>nameGiven</th>\n",
       "      <th>weight</th>\n",
       "      <th>height</th>\n",
       "      <th>bats</th>\n",
       "      <th>throws</th>\n",
       "      <th>debut</th>\n",
       "      <th>finalGame</th>\n",
       "      <th>retroID</th>\n",
       "      <th>bbrefID</th>\n",
       "      <th>yearID</th>\n",
       "      <th>teamID</th>\n",
       "      <th>lgID</th>\n",
       "      <th>salary</th>\n",
       "      <th>stint</th>\n",
       "      <th>G</th>\n",
       "      <th>AB</th>\n",
       "      <th>R</th>\n",
       "      <th>H</th>\n",
       "      <th>2B</th>\n",
       "      <th>3B</th>\n",
       "      <th>HR</th>\n",
       "      <th>RBI</th>\n",
       "      <th>SB</th>\n",
       "      <th>CS</th>\n",
       "      <th>BB</th>\n",
       "      <th>SO</th>\n",
       "      <th>IBB</th>\n",
       "      <th>HBP</th>\n",
       "      <th>SH</th>\n",
       "      <th>SF</th>\n",
       "      <th>GIDP</th>\n",
       "      <th>franchID</th>\n",
       "    </tr>\n",
       "  </thead>\n",
       "  <tbody>\n",
       "    <tr>\n",
       "      <th>11918</th>\n",
       "      <td>gennesc01</td>\n",
       "      <td>1990.0</td>\n",
       "      <td>5.0</td>\n",
       "      <td>1.0</td>\n",
       "      <td>USA</td>\n",
       "      <td>OH</td>\n",
       "      <td>Cincinnati</td>\n",
       "      <td>Scooter</td>\n",
       "      <td>Gennett</td>\n",
       "      <td>Ryan Joseph</td>\n",
       "      <td>185.0</td>\n",
       "      <td>70.0</td>\n",
       "      <td>L</td>\n",
       "      <td>R</td>\n",
       "      <td>2013-06-03</td>\n",
       "      <td>2019-08-26</td>\n",
       "      <td>genns001</td>\n",
       "      <td>gennesc01</td>\n",
       "      <td>2014</td>\n",
       "      <td>MIL</td>\n",
       "      <td>NL</td>\n",
       "      <td>504000</td>\n",
       "      <td>1</td>\n",
       "      <td>137</td>\n",
       "      <td>440</td>\n",
       "      <td>55</td>\n",
       "      <td>127</td>\n",
       "      <td>31</td>\n",
       "      <td>3</td>\n",
       "      <td>9</td>\n",
       "      <td>54.0</td>\n",
       "      <td>6.0</td>\n",
       "      <td>3.0</td>\n",
       "      <td>22</td>\n",
       "      <td>67.0</td>\n",
       "      <td>5.0</td>\n",
       "      <td>0.0</td>\n",
       "      <td>8.0</td>\n",
       "      <td>4.0</td>\n",
       "      <td>11.0</td>\n",
       "      <td>MIL</td>\n",
       "    </tr>\n",
       "    <tr>\n",
       "      <th>11919</th>\n",
       "      <td>gennesc01</td>\n",
       "      <td>1990.0</td>\n",
       "      <td>5.0</td>\n",
       "      <td>1.0</td>\n",
       "      <td>USA</td>\n",
       "      <td>OH</td>\n",
       "      <td>Cincinnati</td>\n",
       "      <td>Scooter</td>\n",
       "      <td>Gennett</td>\n",
       "      <td>Ryan Joseph</td>\n",
       "      <td>185.0</td>\n",
       "      <td>70.0</td>\n",
       "      <td>L</td>\n",
       "      <td>R</td>\n",
       "      <td>2013-06-03</td>\n",
       "      <td>2019-08-26</td>\n",
       "      <td>genns001</td>\n",
       "      <td>gennesc01</td>\n",
       "      <td>2015</td>\n",
       "      <td>MIL</td>\n",
       "      <td>NL</td>\n",
       "      <td>516500</td>\n",
       "      <td>1</td>\n",
       "      <td>114</td>\n",
       "      <td>375</td>\n",
       "      <td>42</td>\n",
       "      <td>99</td>\n",
       "      <td>18</td>\n",
       "      <td>4</td>\n",
       "      <td>6</td>\n",
       "      <td>29.0</td>\n",
       "      <td>1.0</td>\n",
       "      <td>3.0</td>\n",
       "      <td>12</td>\n",
       "      <td>68.0</td>\n",
       "      <td>5.0</td>\n",
       "      <td>4.0</td>\n",
       "      <td>0.0</td>\n",
       "      <td>0.0</td>\n",
       "      <td>11.0</td>\n",
       "      <td>MIL</td>\n",
       "    </tr>\n",
       "    <tr>\n",
       "      <th>11920</th>\n",
       "      <td>gennesc01</td>\n",
       "      <td>1990.0</td>\n",
       "      <td>5.0</td>\n",
       "      <td>1.0</td>\n",
       "      <td>USA</td>\n",
       "      <td>OH</td>\n",
       "      <td>Cincinnati</td>\n",
       "      <td>Scooter</td>\n",
       "      <td>Gennett</td>\n",
       "      <td>Ryan Joseph</td>\n",
       "      <td>185.0</td>\n",
       "      <td>70.0</td>\n",
       "      <td>L</td>\n",
       "      <td>R</td>\n",
       "      <td>2013-06-03</td>\n",
       "      <td>2019-08-26</td>\n",
       "      <td>genns001</td>\n",
       "      <td>gennesc01</td>\n",
       "      <td>2016</td>\n",
       "      <td>MIL</td>\n",
       "      <td>NL</td>\n",
       "      <td>518100</td>\n",
       "      <td>1</td>\n",
       "      <td>136</td>\n",
       "      <td>498</td>\n",
       "      <td>58</td>\n",
       "      <td>131</td>\n",
       "      <td>30</td>\n",
       "      <td>1</td>\n",
       "      <td>14</td>\n",
       "      <td>56.0</td>\n",
       "      <td>8.0</td>\n",
       "      <td>1.0</td>\n",
       "      <td>38</td>\n",
       "      <td>114.0</td>\n",
       "      <td>1.0</td>\n",
       "      <td>2.0</td>\n",
       "      <td>1.0</td>\n",
       "      <td>2.0</td>\n",
       "      <td>11.0</td>\n",
       "      <td>MIL</td>\n",
       "    </tr>\n",
       "  </tbody>\n",
       "</table>\n",
       "</div>"
      ],
      "text/plain": [
       "        playerID  birthYear  birthMonth  birthDay birthCountry birthState  \\\n",
       "11918  gennesc01     1990.0         5.0       1.0          USA         OH   \n",
       "11919  gennesc01     1990.0         5.0       1.0          USA         OH   \n",
       "11920  gennesc01     1990.0         5.0       1.0          USA         OH   \n",
       "\n",
       "        birthCity nameFirst nameLast    nameGiven  weight  height bats throws  \\\n",
       "11918  Cincinnati   Scooter  Gennett  Ryan Joseph   185.0    70.0    L      R   \n",
       "11919  Cincinnati   Scooter  Gennett  Ryan Joseph   185.0    70.0    L      R   \n",
       "11920  Cincinnati   Scooter  Gennett  Ryan Joseph   185.0    70.0    L      R   \n",
       "\n",
       "            debut   finalGame   retroID    bbrefID  yearID teamID lgID  \\\n",
       "11918  2013-06-03  2019-08-26  genns001  gennesc01    2014    MIL   NL   \n",
       "11919  2013-06-03  2019-08-26  genns001  gennesc01    2015    MIL   NL   \n",
       "11920  2013-06-03  2019-08-26  genns001  gennesc01    2016    MIL   NL   \n",
       "\n",
       "       salary  stint    G   AB   R    H  2B  3B  HR   RBI   SB   CS  BB  \\\n",
       "11918  504000      1  137  440  55  127  31   3   9  54.0  6.0  3.0  22   \n",
       "11919  516500      1  114  375  42   99  18   4   6  29.0  1.0  3.0  12   \n",
       "11920  518100      1  136  498  58  131  30   1  14  56.0  8.0  1.0  38   \n",
       "\n",
       "          SO  IBB  HBP   SH   SF  GIDP franchID  \n",
       "11918   67.0  5.0  0.0  8.0  4.0  11.0      MIL  \n",
       "11919   68.0  5.0  4.0  0.0  0.0  11.0      MIL  \n",
       "11920  114.0  1.0  2.0  1.0  2.0  11.0      MIL  "
      ]
     },
     "execution_count": 7,
     "metadata": {},
     "output_type": "execute_result"
    }
   ],
   "source": [
    "player_seasons[player_seasons['playerID'] == 'gennesc01']"
   ]
  },
  {
   "cell_type": "code",
   "execution_count": 6,
   "metadata": {},
   "outputs": [],
   "source": [
    "team_seasons = player_seasons.groupby(by=['franchID','yearID']).agg({'salary':'sum'}).reset_index()"
   ]
  },
  {
   "cell_type": "code",
   "execution_count": 7,
   "metadata": {},
   "outputs": [],
   "source": [
    "team_seasons = team_seasons.merge(teams[teams.columns[0:14]], on=['franchID','yearID'])"
   ]
  },
  {
   "cell_type": "code",
   "execution_count": 8,
   "metadata": {},
   "outputs": [],
   "source": [
    "batting_nosalary = batting[batting['playerID'].isin(people[~people['playerID'].isin(player_seasons['playerID'].unique())]['playerID'].unique())].merge(franchises, on='teamID')"
   ]
  },
  {
   "cell_type": "code",
   "execution_count": 9,
   "metadata": {},
   "outputs": [
    {
     "data": {
      "text/plain": [
       "Index(['playerID', 'yearID', 'stint', 'teamID', 'lgID', 'G', 'AB', 'R', 'H',\n",
       "       '2B', '3B', 'HR', 'RBI', 'SB', 'CS', 'BB', 'SO', 'IBB', 'HBP', 'SH',\n",
       "       'SF', 'GIDP', 'franchID'],\n",
       "      dtype='object')"
      ]
     },
     "execution_count": 9,
     "metadata": {},
     "output_type": "execute_result"
    }
   ],
   "source": [
    "batting_nosalary.keys()"
   ]
  },
  {
   "cell_type": "code",
   "execution_count": 10,
   "metadata": {},
   "outputs": [
    {
     "name": "stdout",
     "output_type": "stream",
     "text": [
      "       playerID  yearID  stint teamID lgID   G  AB  R  H  2B  ...   SB   CS  \\\n",
      "4036  abregjo01    1985      1    CHN   NL   6   9  0  0   0  ...  0.0  0.0   \n",
      "4037  botelde01    1985      1    CHN   NL  11  14  2  2   0  ...  0.0  0.0   \n",
      "4038  engelst01    1985      1    CHN   NL  11  16  1  3   0  ...  0.0  0.0   \n",
      "4039   gurala01    1985      2    CHN   NL   5   6  0  0   0  ...  0.0  0.0   \n",
      "4040  meridro01    1985      1    CHN   NL  32   4  0  1   0  ...  0.0  0.0   \n",
      "4041   owenda01    1985      1    CHN   NL  22  19  6  7   0  ...  1.0  1.0   \n",
      "\n",
      "      BB   SO  IBB  HBP   SH   SF  GIDP  franchID  \n",
      "4036   0  2.0  0.0  0.0  0.0  0.0   0.0       CHC  \n",
      "4037   1  5.0  0.0  0.0  0.0  0.0   0.0       CHC  \n",
      "4038   3  7.0  0.0  0.0  0.0  0.0   0.0       CHC  \n",
      "4039   1  4.0  0.0  0.0  0.0  0.0   0.0       CHC  \n",
      "4040   1  1.0  0.0  0.0  0.0  0.0   0.0       CHC  \n",
      "4041   1  5.0  0.0  0.0  0.0  0.0   0.0       CHC  \n",
      "\n",
      "[6 rows x 23 columns]\n",
      "        playerID  yearID  stint teamID lgID   G  AB  R   H  2B  ...   SB   CS  \\\n",
      "66934  telisto01    2015      2    MIA   NL  17  27  1   4   0  ...  0.0  0.0   \n",
      "66935  urenajo01    2015      1    MIA   NL  20  13  0   1   0  ...  0.0  0.0   \n",
      "66936  barraky01    2016      1    MIA   NL  75   1  0   0   0  ...  0.0  0.0   \n",
      "66937  briceau01    2016      1    MIA   NL  15   0  0   0   0  ...  0.0  0.0   \n",
      "66938  cervehu01    2016      2    MIA   NL  18   0  0   0   0  ...  0.0  0.0   \n",
      "66939  clemepa02    2016      1    MIA   NL   2   2  0   0   0  ...  0.0  0.0   \n",
      "66940    egeco01    2016      1    MIA   NL   5   1  0   1   0  ...  0.0  0.0   \n",
      "66941  ellinbr02    2016      1    MIA   NL  32   1  0   0   0  ...  0.0  0.0   \n",
      "66942   eschja01    2016      1    MIA   NL   3   5  1   1   0  ...  0.0  0.0   \n",
      "66943  floreke01    2016      1    MIA   NL   1   1  0   0   0  ...  0.0  0.0   \n",
      "66944  gilleco01    2016      1    MIA   NL  41  51  7  12   3  ...  0.0  0.0   \n",
      "66945   hallco01    2016      1    MIA   NL   2   0  0   0   0  ...  0.0  0.0   \n",
      "66946   hoodde01    2016      1    MIA   NL  13  25  3   6   1  ...  0.0  1.0   \n",
      "66947  nicolju01    2016      1    MIA   NL  18  22  0   2   0  ...  0.0  0.0   \n",
      "66948  ogandne01    2016      1    MIA   NL  14   0  0   0   0  ...  0.0  0.0   \n",
      "66949  perezye01    2016      1    MIA   NL  12   3  5   2   1  ...  4.0  2.0   \n",
      "66950  scrugxa01    2016      1    MIA   NL  24  62  1  13   3  ...  0.0  0.0   \n",
      "66951  telisto01    2016      1    MIA   NL  10  13  1   4   0  ...  0.0  0.0   \n",
      "66952  urenajo01    2016      1    MIA   NL  29  17  1   3   0  ...  0.0  0.0   \n",
      "66953  wittgni01    2016      1    MIA   NL  48   0  0   0   0  ...  0.0  0.0   \n",
      "\n",
      "       BB    SO  IBB  HBP   SH   SF  GIDP  franchID  \n",
      "66934   1   3.0  1.0  1.0  0.0  0.0   2.0       FLA  \n",
      "66935   0   9.0  0.0  0.0  0.0  0.0   0.0       FLA  \n",
      "66936   0   1.0  0.0  0.0  0.0  0.0   0.0       FLA  \n",
      "66937   0   0.0  0.0  0.0  0.0  0.0   0.0       FLA  \n",
      "66938   0   0.0  0.0  0.0  0.0  0.0   0.0       FLA  \n",
      "66939   0   2.0  0.0  0.0  0.0  0.0   0.0       FLA  \n",
      "66940   0   0.0  0.0  0.0  0.0  0.0   0.0       FLA  \n",
      "66941   0   1.0  0.0  0.0  0.0  0.0   0.0       FLA  \n",
      "66942   0   2.0  0.0  0.0  0.0  0.0   0.0       FLA  \n",
      "66943   0   1.0  0.0  0.0  0.0  0.0   0.0       FLA  \n",
      "66944   3  14.0  0.0  0.0  0.0  1.0   1.0       FLA  \n",
      "66945   0   0.0  0.0  0.0  0.0  0.0   0.0       FLA  \n",
      "66946   0  11.0  0.0  0.0  0.0  0.0   0.0       FLA  \n",
      "66947   1  11.0  0.0  0.0  1.0  0.0   1.0       FLA  \n",
      "66948   0   0.0  0.0  0.0  0.0  0.0   0.0       FLA  \n",
      "66949   0   1.0  0.0  0.0  0.0  0.0   0.0       FLA  \n",
      "66950   5  20.0  0.0  2.0  0.0  0.0   1.0       FLA  \n",
      "66951   0   2.0  0.0  0.0  0.0  0.0   0.0       FLA  \n",
      "66952   1  11.0  0.0  0.0  4.0  0.0   0.0       FLA  \n",
      "66953   0   0.0  0.0  0.0  0.0  0.0   0.0       FLA  \n",
      "\n",
      "[20 rows x 23 columns]\n"
     ]
    }
   ],
   "source": [
    "batting_nosalary = batting_nosalary[batting_nosalary['yearID'] >= min(player_seasons['yearID'])]\n",
    "batting_nosalary = batting_nosalary[batting_nosalary['yearID'] <= max(player_seasons['yearID'])]\n",
    "print(batting_nosalary.head(6))\n",
    "print(batting_nosalary.tail(20))"
   ]
  },
  {
   "cell_type": "code",
   "execution_count": 11,
   "metadata": {},
   "outputs": [
    {
     "data": {
      "text/html": [
       "<div>\n",
       "<style scoped>\n",
       "    .dataframe tbody tr th:only-of-type {\n",
       "        vertical-align: middle;\n",
       "    }\n",
       "\n",
       "    .dataframe tbody tr th {\n",
       "        vertical-align: top;\n",
       "    }\n",
       "\n",
       "    .dataframe thead th {\n",
       "        text-align: right;\n",
       "    }\n",
       "</style>\n",
       "<table border=\"1\" class=\"dataframe\">\n",
       "  <thead>\n",
       "    <tr style=\"text-align: right;\">\n",
       "      <th></th>\n",
       "      <th>playerID</th>\n",
       "      <th>birthYear</th>\n",
       "      <th>birthMonth</th>\n",
       "      <th>birthDay</th>\n",
       "      <th>birthCountry</th>\n",
       "      <th>birthState</th>\n",
       "      <th>birthCity</th>\n",
       "      <th>nameFirst</th>\n",
       "      <th>nameLast</th>\n",
       "      <th>nameGiven</th>\n",
       "      <th>...</th>\n",
       "      <th>SB</th>\n",
       "      <th>CS</th>\n",
       "      <th>BB</th>\n",
       "      <th>SO</th>\n",
       "      <th>IBB</th>\n",
       "      <th>HBP</th>\n",
       "      <th>SH</th>\n",
       "      <th>SF</th>\n",
       "      <th>GIDP</th>\n",
       "      <th>franchID</th>\n",
       "    </tr>\n",
       "  </thead>\n",
       "  <tbody>\n",
       "  </tbody>\n",
       "</table>\n",
       "<p>0 rows × 41 columns</p>\n",
       "</div>"
      ],
      "text/plain": [
       "Empty DataFrame\n",
       "Columns: [playerID, birthYear, birthMonth, birthDay, birthCountry, birthState, birthCity, nameFirst, nameLast, nameGiven, weight, height, bats, throws, debut, finalGame, retroID, bbrefID, yearID, teamID, lgID, salary, stint, G, AB, R, H, 2B, 3B, HR, RBI, SB, CS, BB, SO, IBB, HBP, SH, SF, GIDP, franchID]\n",
       "Index: []\n",
       "\n",
       "[0 rows x 41 columns]"
      ]
     },
     "execution_count": 11,
     "metadata": {},
     "output_type": "execute_result"
    }
   ],
   "source": [
    "player_seasons[player_seasons['playerID']=='telisto01']"
   ]
  },
  {
   "cell_type": "code",
   "execution_count": 12,
   "metadata": {},
   "outputs": [
    {
     "data": {
      "text/html": [
       "<div>\n",
       "<style scoped>\n",
       "    .dataframe tbody tr th:only-of-type {\n",
       "        vertical-align: middle;\n",
       "    }\n",
       "\n",
       "    .dataframe tbody tr th {\n",
       "        vertical-align: top;\n",
       "    }\n",
       "\n",
       "    .dataframe thead th {\n",
       "        text-align: right;\n",
       "    }\n",
       "</style>\n",
       "<table border=\"1\" class=\"dataframe\">\n",
       "  <thead>\n",
       "    <tr style=\"text-align: right;\">\n",
       "      <th></th>\n",
       "      <th>yearID</th>\n",
       "      <th>teamID</th>\n",
       "      <th>lgID</th>\n",
       "      <th>playerID</th>\n",
       "      <th>salary</th>\n",
       "    </tr>\n",
       "  </thead>\n",
       "  <tbody>\n",
       "  </tbody>\n",
       "</table>\n",
       "</div>"
      ],
      "text/plain": [
       "Empty DataFrame\n",
       "Columns: [yearID, teamID, lgID, playerID, salary]\n",
       "Index: []"
      ]
     },
     "execution_count": 12,
     "metadata": {},
     "output_type": "execute_result"
    }
   ],
   "source": [
    "salary[salary['playerID'] == 'telisto01']"
   ]
  },
  {
   "cell_type": "code",
   "execution_count": 13,
   "metadata": {},
   "outputs": [
    {
     "data": {
      "text/plain": [
       "Index(['playerID', 'birthYear', 'birthMonth', 'birthDay', 'birthCountry',\n",
       "       'birthState', 'birthCity', 'nameFirst', 'nameLast', 'nameGiven',\n",
       "       'weight', 'height', 'bats', 'throws', 'debut', 'finalGame', 'retroID',\n",
       "       'bbrefID', 'yearID', 'teamID', 'lgID', 'salary', 'stint', 'G', 'AB',\n",
       "       'R', 'H', '2B', '3B', 'HR', 'RBI', 'SB', 'CS', 'BB', 'SO', 'IBB', 'HBP',\n",
       "       'SH', 'SF', 'GIDP', 'franchID'],\n",
       "      dtype='object')"
      ]
     },
     "execution_count": 13,
     "metadata": {},
     "output_type": "execute_result"
    }
   ],
   "source": [
    "player_seasons.keys()"
   ]
  },
  {
   "cell_type": "code",
   "execution_count": 14,
   "metadata": {},
   "outputs": [],
   "source": [
    "games_by_year_nosalary = batting_nosalary.groupby(by='yearID').sum()['G']\n",
    "games_by_year_salary = player_seasons.groupby(by='yearID').sum()['G']\n",
    "\n",
    "games_by_team_nosalary = batting_nosalary.groupby(by='franchID').sum()['G']\n",
    "games_by_team_salary = player_seasons.groupby(by='franchID').sum()['G']"
   ]
  },
  {
   "cell_type": "code",
   "execution_count": 15,
   "metadata": {},
   "outputs": [
    {
     "data": {
      "text/plain": [
       "array([3510, 1422, 1430, 1164,  676,  676, 1144,  788, 1063,  346,  448,\n",
       "        553,  499,  461,  626, 1143, 1089, 1306, 1869, 1565, 1452, 1555,\n",
       "       1424, 2082, 1801, 1583, 2166, 2068, 2066, 2387, 4234, 8792],\n",
       "      dtype=int64)"
      ]
     },
     "execution_count": 15,
     "metadata": {},
     "output_type": "execute_result"
    }
   ],
   "source": [
    "games_by_year_nosalary.values"
   ]
  },
  {
   "cell_type": "code",
   "execution_count": 16,
   "metadata": {},
   "outputs": [
    {
     "data": {
      "image/png": "[encoded data removed]",
      "text/plain": [
       "<Figure size 432x288 with 1 Axes>"
      ]
     },
     "metadata": {
      "needs_background": "light"
     },
     "output_type": "display_data"
    }
   ],
   "source": [
    "plt.bar(games_by_year_nosalary.keys(),games_by_year_nosalary.values);"
   ]
  },
  {
   "cell_type": "code",
   "execution_count": 17,
   "metadata": {},
   "outputs": [
    {
     "data": {
      "image/png": "[encoded data removed]",
      "text/plain": [
       "<Figure size 432x288 with 1 Axes>"
      ]
     },
     "metadata": {
      "needs_background": "light"
     },
     "output_type": "display_data"
    }
   ],
   "source": [
    "plt.bar(games_by_year_salary.keys(),games_by_year_salary.values);"
   ]
  },
  {
   "cell_type": "code",
   "execution_count": 18,
   "metadata": {},
   "outputs": [
    {
     "data": {
      "image/png": "[encoded data removed]",
      "text/plain": [
       "<Figure size 432x288 with 1 Axes>"
      ]
     },
     "metadata": {},
     "output_type": "display_data"
    }
   ],
   "source": [
    "plt.pie([sum(games_by_year_nosalary),sum(games_by_year_salary)], labels=['NoSalary','Salary']);"
   ]
  },
  {
   "cell_type": "code",
   "execution_count": 19,
   "metadata": {},
   "outputs": [
    {
     "data": {
      "image/png": "[encoded data removed]",
      "text/plain": [
       "<Figure size 432x288 with 1 Axes>"
      ]
     },
     "metadata": {
      "needs_background": "light"
     },
     "output_type": "display_data"
    }
   ],
   "source": [
    "y_offset = np.zeros(len(games_by_team_nosalary.keys()))\n",
    "colors= ['blue','orange']\n",
    "\n",
    "for i,a in enumerate([games_by_team_nosalary,games_by_team_salary]):\n",
    "\n",
    "    plt.bar(games_by_team_nosalary.keys(),a.values, bottom=y_offset, color = colors[i])\n",
    "    y_offset = y_offset + a.values\n",
    "\n",
    "plt.xticks(rotation=90);"
   ]
  },
  {
   "cell_type": "code",
   "execution_count": 20,
   "metadata": {},
   "outputs": [],
   "source": [
    "games_by_year_team_salary = player_seasons.groupby(by=['yearID','franchID']).agg({'G':'sum'}).reset_index()"
   ]
  },
  {
   "cell_type": "code",
   "execution_count": 21,
   "metadata": {},
   "outputs": [
    {
     "data": {
      "text/html": [
       "<div>\n",
       "<style scoped>\n",
       "    .dataframe tbody tr th:only-of-type {\n",
       "        vertical-align: middle;\n",
       "    }\n",
       "\n",
       "    .dataframe tbody tr th {\n",
       "        vertical-align: top;\n",
       "    }\n",
       "\n",
       "    .dataframe thead th {\n",
       "        text-align: right;\n",
       "    }\n",
       "</style>\n",
       "<table border=\"1\" class=\"dataframe\">\n",
       "  <thead>\n",
       "    <tr style=\"text-align: right;\">\n",
       "      <th></th>\n",
       "      <th>yearID</th>\n",
       "      <th>franchID</th>\n",
       "      <th>G</th>\n",
       "    </tr>\n",
       "  </thead>\n",
       "  <tbody>\n",
       "    <tr>\n",
       "      <th>0</th>\n",
       "      <td>1985</td>\n",
       "      <td>ANA</td>\n",
       "      <td>2012</td>\n",
       "    </tr>\n",
       "    <tr>\n",
       "      <th>1</th>\n",
       "      <td>1985</td>\n",
       "      <td>ATL</td>\n",
       "      <td>1897</td>\n",
       "    </tr>\n",
       "    <tr>\n",
       "      <th>2</th>\n",
       "      <td>1985</td>\n",
       "      <td>BAL</td>\n",
       "      <td>1835</td>\n",
       "    </tr>\n",
       "    <tr>\n",
       "      <th>3</th>\n",
       "      <td>1985</td>\n",
       "      <td>BOS</td>\n",
       "      <td>1903</td>\n",
       "    </tr>\n",
       "    <tr>\n",
       "      <th>4</th>\n",
       "      <td>1985</td>\n",
       "      <td>CHC</td>\n",
       "      <td>1808</td>\n",
       "    </tr>\n",
       "    <tr>\n",
       "      <th>...</th>\n",
       "      <td>...</td>\n",
       "      <td>...</td>\n",
       "      <td>...</td>\n",
       "    </tr>\n",
       "    <tr>\n",
       "      <th>913</th>\n",
       "      <td>2016</td>\n",
       "      <td>STL</td>\n",
       "      <td>2176</td>\n",
       "    </tr>\n",
       "    <tr>\n",
       "      <th>914</th>\n",
       "      <td>2016</td>\n",
       "      <td>TBD</td>\n",
       "      <td>1873</td>\n",
       "    </tr>\n",
       "    <tr>\n",
       "      <th>915</th>\n",
       "      <td>2016</td>\n",
       "      <td>TEX</td>\n",
       "      <td>1730</td>\n",
       "    </tr>\n",
       "    <tr>\n",
       "      <th>916</th>\n",
       "      <td>2016</td>\n",
       "      <td>TOR</td>\n",
       "      <td>2094</td>\n",
       "    </tr>\n",
       "    <tr>\n",
       "      <th>917</th>\n",
       "      <td>2016</td>\n",
       "      <td>WAS</td>\n",
       "      <td>2005</td>\n",
       "    </tr>\n",
       "  </tbody>\n",
       "</table>\n",
       "<p>918 rows × 3 columns</p>\n",
       "</div>"
      ],
      "text/plain": [
       "     yearID franchID     G\n",
       "0      1985      ANA  2012\n",
       "1      1985      ATL  1897\n",
       "2      1985      BAL  1835\n",
       "3      1985      BOS  1903\n",
       "4      1985      CHC  1808\n",
       "..      ...      ...   ...\n",
       "913    2016      STL  2176\n",
       "914    2016      TBD  1873\n",
       "915    2016      TEX  1730\n",
       "916    2016      TOR  2094\n",
       "917    2016      WAS  2005\n",
       "\n",
       "[918 rows x 3 columns]"
      ]
     },
     "execution_count": 21,
     "metadata": {},
     "output_type": "execute_result"
    }
   ],
   "source": [
    "games_by_year_team_salary"
   ]
  },
  {
   "cell_type": "code",
   "execution_count": 22,
   "metadata": {},
   "outputs": [
    {
     "data": {
      "image/png": "[encoded data removed]",
      "text/plain": [
       "<Figure size 432x288 with 1 Axes>"
      ]
     },
     "metadata": {
      "needs_background": "light"
     },
     "output_type": "display_data"
    }
   ],
   "source": [
    "for key in games_by_year_team_salary['franchID'].unique():\n",
    "    x = games_by_year_team_salary[games_by_year_team_salary['franchID'] == key]['yearID']\n",
    "    y = games_by_year_team_salary[games_by_year_team_salary['franchID'] == key]['G']\n",
    "\n",
    "    plt.plot(x,y)\n",
    "\n"
   ]
  },
  {
   "cell_type": "code",
   "execution_count": null,
   "metadata": {},
   "outputs": [],
   "source": []
  },
  {
   "cell_type": "code",
   "execution_count": 23,
   "metadata": {},
   "outputs": [],
   "source": [
    "player_seasons_full = people.merge(salary,how='outer',on='playerID').drop(\n",
    "    columns=['deathYear','deathMonth', 'deathDay','deathCountry', 'deathState', 'deathCity'])"
   ]
  },
  {
   "cell_type": "code",
   "execution_count": 24,
   "metadata": {},
   "outputs": [
    {
     "data": {
      "text/plain": [
       "Index(['playerID', 'birthYear', 'birthMonth', 'birthDay', 'birthCountry',\n",
       "       'birthState', 'birthCity', 'deathYear', 'deathMonth', 'deathDay',\n",
       "       'deathCountry', 'deathState', 'deathCity', 'nameFirst', 'nameLast',\n",
       "       'nameGiven', 'weight', 'height', 'bats', 'throws', 'debut', 'finalGame',\n",
       "       'retroID', 'bbrefID'],\n",
       "      dtype='object')"
      ]
     },
     "execution_count": 24,
     "metadata": {},
     "output_type": "execute_result"
    }
   ],
   "source": [
    "people.keys()"
   ]
  },
  {
   "cell_type": "code",
   "execution_count": 25,
   "metadata": {},
   "outputs": [
    {
     "data": {
      "text/plain": [
       "Index(['yearID', 'teamID', 'lgID', 'playerID', 'salary'], dtype='object')"
      ]
     },
     "execution_count": 25,
     "metadata": {},
     "output_type": "execute_result"
    }
   ],
   "source": [
    "salary.keys()"
   ]
  },
  {
   "cell_type": "code",
   "execution_count": 26,
   "metadata": {},
   "outputs": [
    {
     "data": {
      "text/html": [
       "<div>\n",
       "<style scoped>\n",
       "    .dataframe tbody tr th:only-of-type {\n",
       "        vertical-align: middle;\n",
       "    }\n",
       "\n",
       "    .dataframe tbody tr th {\n",
       "        vertical-align: top;\n",
       "    }\n",
       "\n",
       "    .dataframe thead th {\n",
       "        text-align: right;\n",
       "    }\n",
       "</style>\n",
       "<table border=\"1\" class=\"dataframe\">\n",
       "  <thead>\n",
       "    <tr style=\"text-align: right;\">\n",
       "      <th></th>\n",
       "      <th>playerID</th>\n",
       "      <th>birthYear</th>\n",
       "      <th>birthMonth</th>\n",
       "      <th>birthDay</th>\n",
       "      <th>birthCountry</th>\n",
       "      <th>birthState</th>\n",
       "      <th>birthCity</th>\n",
       "      <th>nameFirst</th>\n",
       "      <th>nameLast</th>\n",
       "      <th>nameGiven</th>\n",
       "      <th>...</th>\n",
       "      <th>bats</th>\n",
       "      <th>throws</th>\n",
       "      <th>debut</th>\n",
       "      <th>finalGame</th>\n",
       "      <th>retroID</th>\n",
       "      <th>bbrefID</th>\n",
       "      <th>yearID</th>\n",
       "      <th>teamID</th>\n",
       "      <th>lgID</th>\n",
       "      <th>salary</th>\n",
       "    </tr>\n",
       "  </thead>\n",
       "  <tbody>\n",
       "    <tr>\n",
       "      <th>7019</th>\n",
       "      <td>clemepa02</td>\n",
       "      <td>1988.0</td>\n",
       "      <td>2.0</td>\n",
       "      <td>14.0</td>\n",
       "      <td>USA</td>\n",
       "      <td>SC</td>\n",
       "      <td>Columbia</td>\n",
       "      <td>Paul</td>\n",
       "      <td>Clemens</td>\n",
       "      <td>Paul Arthur</td>\n",
       "      <td>...</td>\n",
       "      <td>R</td>\n",
       "      <td>R</td>\n",
       "      <td>2013-04-09</td>\n",
       "      <td>2016-10-02</td>\n",
       "      <td>clemp002</td>\n",
       "      <td>clemepa02</td>\n",
       "      <td>NaN</td>\n",
       "      <td>NaN</td>\n",
       "      <td>NaN</td>\n",
       "      <td>NaN</td>\n",
       "    </tr>\n",
       "  </tbody>\n",
       "</table>\n",
       "<p>1 rows × 22 columns</p>\n",
       "</div>"
      ],
      "text/plain": [
       "       playerID  birthYear  birthMonth  birthDay birthCountry birthState  \\\n",
       "7019  clemepa02     1988.0         2.0      14.0          USA         SC   \n",
       "\n",
       "     birthCity nameFirst nameLast    nameGiven  ...  bats  throws       debut  \\\n",
       "7019  Columbia      Paul  Clemens  Paul Arthur  ...     R       R  2013-04-09   \n",
       "\n",
       "       finalGame   retroID    bbrefID yearID teamID  lgID salary  \n",
       "7019  2016-10-02  clemp002  clemepa02    NaN    NaN   NaN    NaN  \n",
       "\n",
       "[1 rows x 22 columns]"
      ]
     },
     "execution_count": 26,
     "metadata": {},
     "output_type": "execute_result"
    }
   ],
   "source": [
    "player_seasons_full[player_seasons_full['playerID'] == \"clemepa02\"]"
   ]
  },
  {
   "cell_type": "code",
   "execution_count": 27,
   "metadata": {},
   "outputs": [
    {
     "data": {
      "text/plain": [
       "<AxesSubplot:>"
      ]
     },
     "execution_count": 27,
     "metadata": {},
     "output_type": "execute_result"
    },
    {
     "data": {
      "image/png": "[encoded data removed]",
      "text/plain": [
       "<Figure size 720x360 with 3 Axes>"
      ]
     },
     "metadata": {
      "needs_background": "light"
     },
     "output_type": "display_data"
    }
   ],
   "source": [
    "missingno.bar(player_seasons_full,sort=\"ascending\", figsize=(10,5), fontsize=12)"
   ]
  },
  {
   "cell_type": "code",
   "execution_count": 28,
   "metadata": {},
   "outputs": [
    {
     "data": {
      "text/plain": [
       "<AxesSubplot:>"
      ]
     },
     "execution_count": 28,
     "metadata": {},
     "output_type": "execute_result"
    },
    {
     "data": {
      "image/png": "[encoded data removed]",
      "text/plain": [
       "<Figure size 720x360 with 2 Axes>"
      ]
     },
     "metadata": {
      "needs_background": "light"
     },
     "output_type": "display_data"
    }
   ],
   "source": [
    "missingno.heatmap(player_seasons_full,sort=\"ascending\", figsize=(10,5), fontsize=12)"
   ]
  },
  {
   "cell_type": "code",
   "execution_count": 29,
   "metadata": {},
   "outputs": [],
   "source": [
    "player_seasons_full_batting = player_seasons_full.merge(batting.drop(columns = ['teamID','lgID']),how='outer', on=[\"playerID\",'yearID']).merge(franchises, on='teamID')"
   ]
  },
  {
   "cell_type": "code",
   "execution_count": 30,
   "metadata": {},
   "outputs": [
    {
     "data": {
      "text/plain": [
       "<AxesSubplot:>"
      ]
     },
     "execution_count": 30,
     "metadata": {},
     "output_type": "execute_result"
    },
    {
     "data": {
      "image/png": "[encoded data removed]",
      "text/plain": [
       "<Figure size 720x360 with 3 Axes>"
      ]
     },
     "metadata": {
      "needs_background": "light"
     },
     "output_type": "display_data"
    }
   ],
   "source": [
    "missingno.bar(player_seasons_full_batting,sort=\"ascending\", figsize=(10,5), fontsize=12)"
   ]
  },
  {
   "cell_type": "code",
   "execution_count": 31,
   "metadata": {},
   "outputs": [
    {
     "data": {
      "text/plain": [
       "<AxesSubplot:>"
      ]
     },
     "execution_count": 31,
     "metadata": {},
     "output_type": "execute_result"
    },
    {
     "data": {
      "image/png": "[encoded data removed]",
      "text/plain": [
       "<Figure size 720x360 with 3 Axes>"
      ]
     },
     "metadata": {
      "needs_background": "light"
     },
     "output_type": "display_data"
    }
   ],
   "source": [
    "missingno.bar(batting_nosalary,sort=\"ascending\", figsize=(10,5), fontsize=12)"
   ]
  },
  {
   "cell_type": "code",
   "execution_count": 32,
   "metadata": {},
   "outputs": [
    {
     "data": {
      "text/plain": [
       "(array([2.76e+03, 6.56e+02, 2.32e+02, 1.14e+02, 4.90e+01, 2.50e+01,\n",
       "        1.50e+01, 8.00e+00, 1.00e+00, 1.00e+00]),\n",
       " array([  1. ,  15.4,  29.8,  44.2,  58.6,  73. ,  87.4, 101.8, 116.2,\n",
       "        130.6, 145. ]),\n",
       " <BarContainer object of 10 artists>)"
      ]
     },
     "execution_count": 32,
     "metadata": {},
     "output_type": "execute_result"
    },
    {
     "data": {
      "image/png": "[encoded data removed]",
      "text/plain": [
       "<Figure size 432x288 with 1 Axes>"
      ]
     },
     "metadata": {
      "needs_background": "light"
     },
     "output_type": "display_data"
    }
   ],
   "source": [
    "plt.hist(batting_nosalary['G'])"
   ]
  },
  {
   "cell_type": "code",
   "execution_count": 33,
   "metadata": {},
   "outputs": [
    {
     "data": {
      "text/plain": [
       "(array([280., 104.,  88.,  81.,  70.,  80.,  58.,  72.,  40.,  66.,  64.,\n",
       "         50.,  65.,  74., 114.,  91., 113., 126., 116., 109., 124., 137.,\n",
       "        153., 139., 134., 152., 136., 154., 182., 689.]),\n",
       " array([1985.        , 1986.03333333, 1987.06666667, 1988.1       ,\n",
       "        1989.13333333, 1990.16666667, 1991.2       , 1992.23333333,\n",
       "        1993.26666667, 1994.3       , 1995.33333333, 1996.36666667,\n",
       "        1997.4       , 1998.43333333, 1999.46666667, 2000.5       ,\n",
       "        2001.53333333, 2002.56666667, 2003.6       , 2004.63333333,\n",
       "        2005.66666667, 2006.7       , 2007.73333333, 2008.76666667,\n",
       "        2009.8       , 2010.83333333, 2011.86666667, 2012.9       ,\n",
       "        2013.93333333, 2014.96666667, 2016.        ]),\n",
       " <BarContainer object of 30 artists>)"
      ]
     },
     "execution_count": 33,
     "metadata": {},
     "output_type": "execute_result"
    },
    {
     "data": {
      "image/png": "[encoded data removed]",
      "text/plain": [
       "<Figure size 432x288 with 1 Axes>"
      ]
     },
     "metadata": {
      "needs_background": "light"
     },
     "output_type": "display_data"
    }
   ],
   "source": [
    "plt.hist(batting_nosalary['yearID'],bins=30)"
   ]
  },
  {
   "cell_type": "code",
   "execution_count": 34,
   "metadata": {},
   "outputs": [
    {
     "name": "stdout",
     "output_type": "stream",
     "text": [
      "josepto01\n",
      "        playerID  birthYear  birthMonth  birthDay birthCountry birthState  \\\n",
      "19289  josepto01     1991.0         7.0      16.0          USA         AZ   \n",
      "\n",
      "      birthCity nameFirst nameLast       nameGiven  ...  bats  throws  \\\n",
      "19289   Phoenix     Tommy   Joseph  Thomas Richard  ...     R       R   \n",
      "\n",
      "            debut   finalGame   retroID    bbrefID yearID teamID  lgID salary  \n",
      "19289  2016-05-13  2017-09-30  joset001  josepto01    NaN    NaN   NaN    NaN  \n",
      "\n",
      "[1 rows x 22 columns]\n",
      "robinde02\n",
      "        playerID  birthYear  birthMonth  birthDay birthCountry birthState  \\\n",
      "32115  robinde02     1987.0         9.0      28.0          USA         FL   \n",
      "\n",
      "         birthCity nameFirst  nameLast      nameGiven  ...  bats  throws  \\\n",
      "32115  Gainesville   Derrick  Robinson  Derrick Lamar  ...     B       L   \n",
      "\n",
      "            debut   finalGame   retroID    bbrefID yearID teamID  lgID salary  \n",
      "32115  2013-04-05  2013-09-29  robid002  robinde02    NaN    NaN   NaN    NaN  \n",
      "\n",
      "[1 rows x 22 columns]\n",
      "diazal02\n",
      "      playerID  birthYear  birthMonth  birthDay birthCountry birthState  \\\n",
      "9402  diazal02     1990.0         8.0       1.0         Cuba        NaN   \n",
      "\n",
      "        birthCity nameFirst nameLast nameGiven  ...  bats  throws       debut  \\\n",
      "9402  Santa Clara   Aledmys     Diaz   Aledmys  ...     R       R  2016-04-05   \n",
      "\n",
      "       finalGame   retroID   bbrefID yearID teamID  lgID salary  \n",
      "9402  2022-10-05  diaza003  diazal02    NaN    NaN   NaN    NaN  \n",
      "\n",
      "[1 rows x 22 columns]\n",
      "robleos01\n",
      "        playerID  birthYear  birthMonth  birthDay birthCountry  \\\n",
      "32171  robleos01     1976.0         4.0       9.0       Mexico   \n",
      "\n",
      "            birthState birthCity nameFirst nameLast     nameGiven  ...  bats  \\\n",
      "32171  Baja California   Tijuana     Oscar   Robles  Oscar Manuel  ...     L   \n",
      "\n",
      "       throws       debut   finalGame   retroID    bbrefID yearID teamID  \\\n",
      "32171       R  2005-05-10  2007-10-01  roblo001  robleos01    NaN    NaN   \n",
      "\n",
      "       lgID salary  \n",
      "32171   NaN    NaN  \n",
      "\n",
      "[1 rows x 22 columns]\n",
      "keplema01\n",
      "        playerID  birthYear  birthMonth  birthDay birthCountry birthState  \\\n",
      "19861  keplema01     1993.0         2.0      10.0      Germany     Berlin   \n",
      "\n",
      "      birthCity nameFirst nameLast   nameGiven  ...  bats  throws       debut  \\\n",
      "19861    Berlin       Max   Kepler  Maximilian  ...     L       L  2015-09-27   \n",
      "\n",
      "        finalGame   retroID    bbrefID yearID teamID  lgID salary  \n",
      "19861  2022-09-11  keplm001  keplema01    NaN    NaN   NaN    NaN  \n",
      "\n",
      "[1 rows x 22 columns]\n",
      "feathta01\n",
      "        playerID  birthYear  birthMonth  birthDay birthCountry birthState  \\\n",
      "11264  feathta01     1989.0        10.0       8.0          USA         TX   \n",
      "\n",
      "      birthCity nameFirst     nameLast      nameGiven  ...  bats  throws  \\\n",
      "11264   Houston    Taylor  Featherston  Taylor Joseph  ...     R       R   \n",
      "\n",
      "            debut   finalGame   retroID    bbrefID yearID teamID  lgID salary  \n",
      "11264  2015-04-12  2017-07-31  featt001  feathta01    NaN    NaN   NaN    NaN  \n",
      "\n",
      "[1 rows x 22 columns]\n",
      "gonzara01\n",
      "        playerID  birthYear  birthMonth  birthDay birthCountry birthState  \\\n",
      "13862  gonzara01     1973.0        12.0      27.0         P.R.        NaN   \n",
      "\n",
      "      birthCity nameFirst  nameLast    nameGiven  ...  bats  throws  \\\n",
      "13862  Santurce      Raul  Gonzalez  Victor Raul  ...     R       R   \n",
      "\n",
      "            debut   finalGame   retroID    bbrefID yearID teamID  lgID salary  \n",
      "13862  2000-05-25  2004-06-21  gonzr002  gonzara01    NaN    NaN   NaN    NaN  \n",
      "\n",
      "[1 rows x 22 columns]\n",
      "pridija01\n",
      "        playerID  birthYear  birthMonth  birthDay birthCountry birthState  \\\n",
      "30372  pridija01     1983.0        10.0       9.0          USA         AZ   \n",
      "\n",
      "      birthCity nameFirst nameLast      nameGiven  ...  bats  throws  \\\n",
      "30372   Phoenix     Jason   Pridie  Jason Orville  ...     L       R   \n",
      "\n",
      "            debut   finalGame   retroID    bbrefID yearID teamID  lgID salary  \n",
      "30372  2008-09-03  2015-09-29  pridj001  pridija01    NaN    NaN   NaN    NaN  \n",
      "\n",
      "[1 rows x 22 columns]\n",
      "cuthbch01\n",
      "       playerID  birthYear  birthMonth  birthDay birthCountry     birthState  \\\n",
      "8399  cuthbch01     1992.0        11.0      16.0    Nicaragua  Atlantico Sur   \n",
      "\n",
      "        birthCity nameFirst  nameLast      nameGiven  ...  bats  throws  \\\n",
      "8399  Corn Island   Cheslor  Cuthbert  Cheslor Jesly  ...     R       R   \n",
      "\n",
      "           debut   finalGame   retroID    bbrefID yearID teamID  lgID salary  \n",
      "8399  2015-07-07  2020-07-26  cuthc001  cuthbch01    NaN    NaN   NaN    NaN  \n",
      "\n",
      "[1 rows x 22 columns]\n",
      "boggsbr01\n",
      "       playerID  birthYear  birthMonth  birthDay birthCountry birthState  \\\n",
      "3507  boggsbr01     1983.0         1.0       9.0          USA         MO   \n",
      "\n",
      "      birthCity nameFirst nameLast     nameGiven  ...  bats  throws  \\\n",
      "3507  St. Louis   Brandon    Boggs  Brandon Kyle  ...     B       R   \n",
      "\n",
      "           debut   finalGame   retroID    bbrefID yearID teamID  lgID salary  \n",
      "3507  2008-04-29  2011-05-24  boggb001  boggsbr01    NaN    NaN   NaN    NaN  \n",
      "\n",
      "[1 rows x 22 columns]\n",
      "mazarno01\n",
      "        playerID  birthYear  birthMonth  birthDay birthCountry  \\\n",
      "23997  mazarno01     1995.0         4.0      26.0         D.R.   \n",
      "\n",
      "              birthState      birthCity nameFirst nameLast     nameGiven  ...  \\\n",
      "23997  Distrito Nacional  Santo Domingo     Nomar   Mazara  Nomar Shamir  ...   \n",
      "\n",
      "       bats  throws       debut   finalGame   retroID    bbrefID yearID  \\\n",
      "23997     L       L  2016-04-10  2022-08-19  mazan001  mazarno01    NaN   \n",
      "\n",
      "      teamID  lgID salary  \n",
      "23997    NaN   NaN    NaN  \n",
      "\n",
      "[1 rows x 22 columns]\n",
      "jonesja06\n",
      "        playerID  birthYear  birthMonth  birthDay birthCountry birthState  \\\n",
      "19137  jonesja06     1988.0         9.0      24.0          USA         NY   \n",
      "\n",
      "      birthCity nameFirst nameLast     nameGiven  ...  bats  throws  \\\n",
      "19137  Brooklyn     James    Jones  James Steven  ...     L       L   \n",
      "\n",
      "            debut   finalGame   retroID    bbrefID yearID teamID  lgID salary  \n",
      "19137  2014-04-18  2015-10-04  jonej005  jonesja06    NaN    NaN   NaN    NaN  \n",
      "\n",
      "[1 rows x 22 columns]\n",
      "sandbja01\n",
      "        playerID  birthYear  birthMonth  birthDay birthCountry birthState  \\\n",
      "33364  sandbja01     1978.0         3.0       2.0          USA         WA   \n",
      "\n",
      "      birthCity nameFirst  nameLast       nameGiven  ...  bats  throws  \\\n",
      "33364   Olympia     Jared  Sandberg  Jared Lawrence  ...     R       R   \n",
      "\n",
      "            debut   finalGame   retroID    bbrefID yearID teamID  lgID salary  \n",
      "33364  2001-08-07  2003-09-26  sandj001  sandbja01    NaN    NaN   NaN    NaN  \n",
      "\n",
      "[1 rows x 22 columns]\n"
     ]
    }
   ],
   "source": [
    "for player in batting_nosalary[batting_nosalary['G'] > 100]['playerID']:\n",
    "    print(player)\n",
    "    print(player_seasons_full[player_seasons_full['playerID'] == player])"
   ]
  },
  {
   "cell_type": "code",
   "execution_count": 35,
   "metadata": {},
   "outputs": [
    {
     "data": {
      "text/html": [
       "<div>\n",
       "<style scoped>\n",
       "    .dataframe tbody tr th:only-of-type {\n",
       "        vertical-align: middle;\n",
       "    }\n",
       "\n",
       "    .dataframe tbody tr th {\n",
       "        vertical-align: top;\n",
       "    }\n",
       "\n",
       "    .dataframe thead th {\n",
       "        text-align: right;\n",
       "    }\n",
       "</style>\n",
       "<table border=\"1\" class=\"dataframe\">\n",
       "  <thead>\n",
       "    <tr style=\"text-align: right;\">\n",
       "      <th></th>\n",
       "      <th>playerID</th>\n",
       "      <th>yearID</th>\n",
       "      <th>stint</th>\n",
       "      <th>teamID</th>\n",
       "      <th>lgID</th>\n",
       "      <th>G</th>\n",
       "      <th>AB</th>\n",
       "      <th>R</th>\n",
       "      <th>H</th>\n",
       "      <th>2B</th>\n",
       "      <th>...</th>\n",
       "      <th>RBI</th>\n",
       "      <th>SB</th>\n",
       "      <th>CS</th>\n",
       "      <th>BB</th>\n",
       "      <th>SO</th>\n",
       "      <th>IBB</th>\n",
       "      <th>HBP</th>\n",
       "      <th>SH</th>\n",
       "      <th>SF</th>\n",
       "      <th>GIDP</th>\n",
       "    </tr>\n",
       "  </thead>\n",
       "  <tbody>\n",
       "    <tr>\n",
       "      <th>101683</th>\n",
       "      <td>diazal02</td>\n",
       "      <td>2016</td>\n",
       "      <td>1</td>\n",
       "      <td>SLN</td>\n",
       "      <td>NL</td>\n",
       "      <td>111</td>\n",
       "      <td>404</td>\n",
       "      <td>71</td>\n",
       "      <td>121</td>\n",
       "      <td>28</td>\n",
       "      <td>...</td>\n",
       "      <td>65.0</td>\n",
       "      <td>4.0</td>\n",
       "      <td>4.0</td>\n",
       "      <td>41</td>\n",
       "      <td>60.0</td>\n",
       "      <td>6.0</td>\n",
       "      <td>7.0</td>\n",
       "      <td>2.0</td>\n",
       "      <td>6.0</td>\n",
       "      <td>10.0</td>\n",
       "    </tr>\n",
       "    <tr>\n",
       "      <th>103165</th>\n",
       "      <td>diazal02</td>\n",
       "      <td>2017</td>\n",
       "      <td>1</td>\n",
       "      <td>SLN</td>\n",
       "      <td>NL</td>\n",
       "      <td>79</td>\n",
       "      <td>286</td>\n",
       "      <td>31</td>\n",
       "      <td>74</td>\n",
       "      <td>17</td>\n",
       "      <td>...</td>\n",
       "      <td>20.0</td>\n",
       "      <td>4.0</td>\n",
       "      <td>1.0</td>\n",
       "      <td>13</td>\n",
       "      <td>42.0</td>\n",
       "      <td>1.0</td>\n",
       "      <td>0.0</td>\n",
       "      <td>1.0</td>\n",
       "      <td>1.0</td>\n",
       "      <td>9.0</td>\n",
       "    </tr>\n",
       "    <tr>\n",
       "      <th>104669</th>\n",
       "      <td>diazal02</td>\n",
       "      <td>2018</td>\n",
       "      <td>1</td>\n",
       "      <td>TOR</td>\n",
       "      <td>AL</td>\n",
       "      <td>130</td>\n",
       "      <td>422</td>\n",
       "      <td>55</td>\n",
       "      <td>111</td>\n",
       "      <td>26</td>\n",
       "      <td>...</td>\n",
       "      <td>55.0</td>\n",
       "      <td>3.0</td>\n",
       "      <td>4.0</td>\n",
       "      <td>23</td>\n",
       "      <td>62.0</td>\n",
       "      <td>2.0</td>\n",
       "      <td>3.0</td>\n",
       "      <td>0.0</td>\n",
       "      <td>4.0</td>\n",
       "      <td>9.0</td>\n",
       "    </tr>\n",
       "    <tr>\n",
       "      <th>106219</th>\n",
       "      <td>diazal02</td>\n",
       "      <td>2019</td>\n",
       "      <td>1</td>\n",
       "      <td>HOU</td>\n",
       "      <td>AL</td>\n",
       "      <td>69</td>\n",
       "      <td>210</td>\n",
       "      <td>36</td>\n",
       "      <td>57</td>\n",
       "      <td>12</td>\n",
       "      <td>...</td>\n",
       "      <td>40.0</td>\n",
       "      <td>2.0</td>\n",
       "      <td>0.0</td>\n",
       "      <td>26</td>\n",
       "      <td>28.0</td>\n",
       "      <td>1.0</td>\n",
       "      <td>5.0</td>\n",
       "      <td>0.0</td>\n",
       "      <td>6.0</td>\n",
       "      <td>10.0</td>\n",
       "    </tr>\n",
       "    <tr>\n",
       "      <th>107739</th>\n",
       "      <td>diazal02</td>\n",
       "      <td>2020</td>\n",
       "      <td>1</td>\n",
       "      <td>HOU</td>\n",
       "      <td>AL</td>\n",
       "      <td>17</td>\n",
       "      <td>58</td>\n",
       "      <td>8</td>\n",
       "      <td>14</td>\n",
       "      <td>5</td>\n",
       "      <td>...</td>\n",
       "      <td>6.0</td>\n",
       "      <td>0.0</td>\n",
       "      <td>0.0</td>\n",
       "      <td>1</td>\n",
       "      <td>12.0</td>\n",
       "      <td>0.0</td>\n",
       "      <td>0.0</td>\n",
       "      <td>0.0</td>\n",
       "      <td>0.0</td>\n",
       "      <td>1.0</td>\n",
       "    </tr>\n",
       "    <tr>\n",
       "      <th>109165</th>\n",
       "      <td>diazal02</td>\n",
       "      <td>2021</td>\n",
       "      <td>1</td>\n",
       "      <td>HOU</td>\n",
       "      <td>AL</td>\n",
       "      <td>84</td>\n",
       "      <td>294</td>\n",
       "      <td>28</td>\n",
       "      <td>76</td>\n",
       "      <td>19</td>\n",
       "      <td>...</td>\n",
       "      <td>45.0</td>\n",
       "      <td>0.0</td>\n",
       "      <td>1.0</td>\n",
       "      <td>16</td>\n",
       "      <td>62.0</td>\n",
       "      <td>3.0</td>\n",
       "      <td>9.0</td>\n",
       "      <td>0.0</td>\n",
       "      <td>0.0</td>\n",
       "      <td>7.0</td>\n",
       "    </tr>\n",
       "    <tr>\n",
       "      <th>110890</th>\n",
       "      <td>diazal02</td>\n",
       "      <td>2022</td>\n",
       "      <td>1</td>\n",
       "      <td>HOU</td>\n",
       "      <td>AL</td>\n",
       "      <td>92</td>\n",
       "      <td>305</td>\n",
       "      <td>35</td>\n",
       "      <td>74</td>\n",
       "      <td>13</td>\n",
       "      <td>...</td>\n",
       "      <td>38.0</td>\n",
       "      <td>1.0</td>\n",
       "      <td>1.0</td>\n",
       "      <td>18</td>\n",
       "      <td>53.0</td>\n",
       "      <td>0.0</td>\n",
       "      <td>2.0</td>\n",
       "      <td>0.0</td>\n",
       "      <td>2.0</td>\n",
       "      <td>7.0</td>\n",
       "    </tr>\n",
       "  </tbody>\n",
       "</table>\n",
       "<p>7 rows × 22 columns</p>\n",
       "</div>"
      ],
      "text/plain": [
       "        playerID  yearID  stint teamID lgID    G   AB   R    H  2B  ...   RBI  \\\n",
       "101683  diazal02    2016      1    SLN   NL  111  404  71  121  28  ...  65.0   \n",
       "103165  diazal02    2017      1    SLN   NL   79  286  31   74  17  ...  20.0   \n",
       "104669  diazal02    2018      1    TOR   AL  130  422  55  111  26  ...  55.0   \n",
       "106219  diazal02    2019      1    HOU   AL   69  210  36   57  12  ...  40.0   \n",
       "107739  diazal02    2020      1    HOU   AL   17   58   8   14   5  ...   6.0   \n",
       "109165  diazal02    2021      1    HOU   AL   84  294  28   76  19  ...  45.0   \n",
       "110890  diazal02    2022      1    HOU   AL   92  305  35   74  13  ...  38.0   \n",
       "\n",
       "         SB   CS  BB    SO  IBB  HBP   SH   SF  GIDP  \n",
       "101683  4.0  4.0  41  60.0  6.0  7.0  2.0  6.0  10.0  \n",
       "103165  4.0  1.0  13  42.0  1.0  0.0  1.0  1.0   9.0  \n",
       "104669  3.0  4.0  23  62.0  2.0  3.0  0.0  4.0   9.0  \n",
       "106219  2.0  0.0  26  28.0  1.0  5.0  0.0  6.0  10.0  \n",
       "107739  0.0  0.0   1  12.0  0.0  0.0  0.0  0.0   1.0  \n",
       "109165  0.0  1.0  16  62.0  3.0  9.0  0.0  0.0   7.0  \n",
       "110890  1.0  1.0  18  53.0  0.0  2.0  0.0  2.0   7.0  \n",
       "\n",
       "[7 rows x 22 columns]"
      ]
     },
     "execution_count": 35,
     "metadata": {},
     "output_type": "execute_result"
    }
   ],
   "source": [
    "batting[batting['playerID'] == 'diazal02']"
   ]
  },
  {
   "cell_type": "code",
   "execution_count": 36,
   "metadata": {},
   "outputs": [
    {
     "data": {
      "text/html": [
       "<div>\n",
       "<style scoped>\n",
       "    .dataframe tbody tr th:only-of-type {\n",
       "        vertical-align: middle;\n",
       "    }\n",
       "\n",
       "    .dataframe tbody tr th {\n",
       "        vertical-align: top;\n",
       "    }\n",
       "\n",
       "    .dataframe thead th {\n",
       "        text-align: right;\n",
       "    }\n",
       "</style>\n",
       "<table border=\"1\" class=\"dataframe\">\n",
       "  <thead>\n",
       "    <tr style=\"text-align: right;\">\n",
       "      <th></th>\n",
       "      <th>yearID</th>\n",
       "      <th>teamID</th>\n",
       "      <th>lgID</th>\n",
       "      <th>playerID</th>\n",
       "      <th>salary</th>\n",
       "    </tr>\n",
       "  </thead>\n",
       "  <tbody>\n",
       "  </tbody>\n",
       "</table>\n",
       "</div>"
      ],
      "text/plain": [
       "Empty DataFrame\n",
       "Columns: [yearID, teamID, lgID, playerID, salary]\n",
       "Index: []"
      ]
     },
     "execution_count": 36,
     "metadata": {},
     "output_type": "execute_result"
    }
   ],
   "source": [
    "salary[salary['playerID'] == 'diazal02']"
   ]
  },
  {
   "cell_type": "markdown",
   "metadata": {},
   "source": [
    "player_seasons_full = people.merge(salary,how='outer',on='playerID').drop(\n",
    "    columns=['deathYear','deathMonth', 'deathDay','deathCountry', 'deathState', 'deathCity'])\n",
    "\n",
    "player_seasons_full = player_seasons_full.merge(batting.drop(columns = ['teamID','lgID']),how='outer', on=[\"playerID\",'yearID']).merge(franchises, on='teamID')"
   ]
  },
  {
   "cell_type": "code",
   "execution_count": 37,
   "metadata": {},
   "outputs": [
    {
     "data": {
      "text/plain": [
       "count    9.010000e+02\n",
       "mean     4.492526e+06\n",
       "std      5.822950e+06\n",
       "min      5.075000e+05\n",
       "25%      5.213000e+05\n",
       "50%      1.700000e+06\n",
       "75%      6.170000e+06\n",
       "max      3.300000e+07\n",
       "Name: salary, dtype: float64"
      ]
     },
     "execution_count": 37,
     "metadata": {},
     "output_type": "execute_result"
    }
   ],
   "source": [
    "player_seasons[player_seasons['yearID'] == 2016]['salary'].describe()"
   ]
  },
  {
   "cell_type": "code",
   "execution_count": 38,
   "metadata": {},
   "outputs": [
    {
     "data": {
      "text/plain": [
       "(array([325.,  50.,  32.,  30.,  34.,  22.,  41.,  21.,  14.,  18.,  16.,\n",
       "         19.,   7.,  10.,  18.,  12.,   7.,  15.,   9.,  10.,  11.,   9.,\n",
       "          3.,  11.,  10.,   4.,   9.,   5.,   6.,  14.,   1.,   3.,  10.,\n",
       "          2.,   2.,  12.,   1.,   7.,  11.,   0.,   4.,   0.,   9.,   2.,\n",
       "          0.,   8.,   0.,   1.,   7.,   2.,   1.,   3.,   0.,   1.,   4.,\n",
       "          0.,   1.,   0.,   0.,   1.,   8.,   0.,   0.,   2.,   2.,   1.,\n",
       "          1.,   5.,   0.,   1.,   3.,   2.,   0.,   3.,   0.,   1.,   2.,\n",
       "          0.,   0.,   0.,   0.,   0.,   0.,   0.,   0.,   1.,   0.,   0.,\n",
       "          0.,   0.,   0.,   0.,   0.,   0.,   0.,   0.,   0.,   0.,   0.,\n",
       "          1.]),\n",
       " array([  507000.,   827640.,  1148280.,  1468920.,  1789560.,  2110200.,\n",
       "         2430840.,  2751480.,  3072120.,  3392760.,  3713400.,  4034040.,\n",
       "         4354680.,  4675320.,  4995960.,  5316600.,  5637240.,  5957880.,\n",
       "         6278520.,  6599160.,  6919800.,  7240440.,  7561080.,  7881720.,\n",
       "         8202360.,  8523000.,  8843640.,  9164280.,  9484920.,  9805560.,\n",
       "        10126200., 10446840., 10767480., 11088120., 11408760., 11729400.,\n",
       "        12050040., 12370680., 12691320., 13011960., 13332600., 13653240.,\n",
       "        13973880., 14294520., 14615160., 14935800., 15256440., 15577080.,\n",
       "        15897720., 16218360., 16539000., 16859640., 17180280., 17500920.,\n",
       "        17821560., 18142200., 18462840., 18783480., 19104120., 19424760.,\n",
       "        19745400., 20066040., 20386680., 20707320., 21027960., 21348600.,\n",
       "        21669240., 21989880., 22310520., 22631160., 22951800., 23272440.,\n",
       "        23593080., 23913720., 24234360., 24555000., 24875640., 25196280.,\n",
       "        25516920., 25837560., 26158200., 26478840., 26799480., 27120120.,\n",
       "        27440760., 27761400., 28082040., 28402680., 28723320., 29043960.,\n",
       "        29364600., 29685240., 30005880., 30326520., 30647160., 30967800.,\n",
       "        31288440., 31609080., 31929720., 32250360., 32571000.]),\n",
       " <BarContainer object of 100 artists>)"
      ]
     },
     "execution_count": 38,
     "metadata": {},
     "output_type": "execute_result"
    },
    {
     "data": {
      "image/png": "[encoded data removed]",
      "text/plain": [
       "<Figure size 432x288 with 1 Axes>"
      ]
     },
     "metadata": {
      "needs_background": "light"
     },
     "output_type": "display_data"
    }
   ],
   "source": [
    "plt.hist(player_seasons[player_seasons['yearID'] == 2015]['salary'], bins=100)"
   ]
  },
  {
   "cell_type": "code",
   "execution_count": null,
   "metadata": {},
   "outputs": [],
   "source": []
  },
  {
   "cell_type": "code",
   "execution_count": 39,
   "metadata": {},
   "outputs": [],
   "source": [
    "bref_bat = pd.read_csv('war_daily_bat.txt')\n",
    "bref_pitch = pd.read_csv('war_daily_pitch.txt')"
   ]
  },
  {
   "cell_type": "code",
   "execution_count": 45,
   "metadata": {},
   "outputs": [],
   "source": [
    "player_seasons_bref = player_seasons.merge(bref_bat, how='outer', left_on=[\"playerID\",'yearID'],right_on=['player_ID','year_ID'])"
   ]
  },
  {
   "cell_type": "code",
   "execution_count": 48,
   "metadata": {},
   "outputs": [
    {
     "data": {
      "text/plain": [
       "28294"
      ]
     },
     "execution_count": 48,
     "metadata": {},
     "output_type": "execute_result"
    }
   ],
   "source": [
    "len(player_seasons)"
   ]
  },
  {
   "cell_type": "code",
   "execution_count": 49,
   "metadata": {},
   "outputs": [
    {
     "data": {
      "text/plain": [
       "126002"
      ]
     },
     "execution_count": 49,
     "metadata": {},
     "output_type": "execute_result"
    }
   ],
   "source": [
    "len(player_seasons_bref)"
   ]
  },
  {
   "cell_type": "code",
   "execution_count": null,
   "metadata": {},
   "outputs": [],
   "source": []
  },
  {
   "cell_type": "code",
   "execution_count": 52,
   "metadata": {},
   "outputs": [
    {
     "data": {
      "text/plain": [
       "Index(['playerID', 'birthYear', 'birthMonth', 'birthDay', 'birthCountry',\n",
       "       'birthState', 'birthCity', 'nameFirst', 'nameLast', 'nameGiven',\n",
       "       'weight', 'height', 'bats', 'throws', 'debut', 'finalGame', 'retroID',\n",
       "       'bbrefID', 'yearID', 'teamID', 'lgID', 'salary_x', 'stint', 'G_x', 'AB',\n",
       "       'R', 'H', '2B', '3B', 'HR', 'RBI', 'SB', 'CS', 'BB', 'SO', 'IBB', 'HBP',\n",
       "       'SH', 'SF', 'GIDP', 'franchID', 'name_common', 'age', 'mlb_ID',\n",
       "       'player_ID', 'year_ID', 'team_ID', 'stint_ID', 'lg_ID', 'PA', 'G_y',\n",
       "       'Inn', 'runs_bat', 'runs_br', 'runs_dp', 'runs_field', 'runs_infield',\n",
       "       'runs_outfield', 'runs_catcher', 'runs_good_plays', 'runs_defense',\n",
       "       'runs_position', 'runs_position_p', 'runs_replacement',\n",
       "       'runs_above_rep', 'runs_above_avg', 'runs_above_avg_off',\n",
       "       'runs_above_avg_def', 'WAA', 'WAA_off', 'WAA_def', 'WAR', 'WAR_def',\n",
       "       'WAR_off', 'WAR_rep', 'salary_y', 'pitcher', 'teamRpG', 'oppRpG',\n",
       "       'oppRpPA_rep', 'oppRpG_rep', 'pyth_exponent', 'pyth_exponent_rep',\n",
       "       'waa_win_perc', 'waa_win_perc_off', 'waa_win_perc_def',\n",
       "       'waa_win_perc_rep', 'OPS_plus', 'TOB_lg', 'TB_lg'],\n",
       "      dtype='object')"
      ]
     },
     "execution_count": 52,
     "metadata": {},
     "output_type": "execute_result"
    }
   ],
   "source": [
    "player_seasons_bref.keys()"
   ]
  },
  {
   "cell_type": "code",
   "execution_count": 58,
   "metadata": {},
   "outputs": [
    {
     "ename": "IndexError",
     "evalue": "only integers, slices (`:`), ellipsis (`...`), numpy.newaxis (`None`) and integer or boolean arrays are valid indices",
     "output_type": "error",
     "traceback": [
      "\u001b[1;31m---------------------------------------------------------------------------\u001b[0m",
      "\u001b[1;31mIndexError\u001b[0m                                Traceback (most recent call last)",
      "\u001b[1;32m<ipython-input-58-f94a232b261e>\u001b[0m in \u001b[0;36m<module>\u001b[1;34m\u001b[0m\n\u001b[1;32m----> 1\u001b[1;33m \u001b[0mmissingno\u001b[0m\u001b[1;33m.\u001b[0m\u001b[0mbar\u001b[0m\u001b[1;33m(\u001b[0m\u001b[0mplayer_seasons_bref\u001b[0m\u001b[1;33m.\u001b[0m\u001b[0mcolumns\u001b[0m\u001b[1;33m[\u001b[0m\u001b[1;34m'playerID'\u001b[0m\u001b[1;33m,\u001b[0m\u001b[1;34m'player_ID'\u001b[0m\u001b[1;33m]\u001b[0m\u001b[1;33m)\u001b[0m\u001b[1;33m\u001b[0m\u001b[1;33m\u001b[0m\u001b[0m\n\u001b[0m",
      "\u001b[1;32ma:\\Users\\sithl\\AppData\\Local\\Programs\\Python\\Python39\\lib\\site-packages\\pandas\\core\\indexes\\base.py\u001b[0m in \u001b[0;36m__getitem__\u001b[1;34m(self, key)\u001b[0m\n\u001b[0;32m   4306\u001b[0m             \u001b[0mkey\u001b[0m \u001b[1;33m=\u001b[0m \u001b[0mnp\u001b[0m\u001b[1;33m.\u001b[0m\u001b[0masarray\u001b[0m\u001b[1;33m(\u001b[0m\u001b[0mkey\u001b[0m\u001b[1;33m,\u001b[0m \u001b[0mdtype\u001b[0m\u001b[1;33m=\u001b[0m\u001b[0mbool\u001b[0m\u001b[1;33m)\u001b[0m\u001b[1;33m\u001b[0m\u001b[1;33m\u001b[0m\u001b[0m\n\u001b[0;32m   4307\u001b[0m \u001b[1;33m\u001b[0m\u001b[0m\n\u001b[1;32m-> 4308\u001b[1;33m         \u001b[0mresult\u001b[0m \u001b[1;33m=\u001b[0m \u001b[0mgetitem\u001b[0m\u001b[1;33m(\u001b[0m\u001b[0mkey\u001b[0m\u001b[1;33m)\u001b[0m\u001b[1;33m\u001b[0m\u001b[1;33m\u001b[0m\u001b[0m\n\u001b[0m\u001b[0;32m   4309\u001b[0m         \u001b[1;32mif\u001b[0m \u001b[1;32mnot\u001b[0m \u001b[0mis_scalar\u001b[0m\u001b[1;33m(\u001b[0m\u001b[0mresult\u001b[0m\u001b[1;33m)\u001b[0m\u001b[1;33m:\u001b[0m\u001b[1;33m\u001b[0m\u001b[1;33m\u001b[0m\u001b[0m\n\u001b[0;32m   4310\u001b[0m             \u001b[1;32mif\u001b[0m \u001b[0mnp\u001b[0m\u001b[1;33m.\u001b[0m\u001b[0mndim\u001b[0m\u001b[1;33m(\u001b[0m\u001b[0mresult\u001b[0m\u001b[1;33m)\u001b[0m \u001b[1;33m>\u001b[0m \u001b[1;36m1\u001b[0m\u001b[1;33m:\u001b[0m\u001b[1;33m\u001b[0m\u001b[1;33m\u001b[0m\u001b[0m\n",
      "\u001b[1;31mIndexError\u001b[0m: only integers, slices (`:`), ellipsis (`...`), numpy.newaxis (`None`) and integer or boolean arrays are valid indices"
     ]
    }
   ],
   "source": [
    "missingno.bar(player_seasons_bref.columns['playerID','player_ID'])"
   ]
  },
  {
   "cell_type": "code",
   "execution_count": 68,
   "metadata": {},
   "outputs": [
    {
     "data": {
      "text/plain": [
       "<AxesSubplot:>"
      ]
     },
     "execution_count": 68,
     "metadata": {},
     "output_type": "execute_result"
    },
    {
     "data": {
      "image/png": "[encoded data removed]",
      "text/plain": [
       "<Figure size 1800x720 with 3 Axes>"
      ]
     },
     "metadata": {
      "needs_background": "light"
     },
     "output_type": "display_data"
    }
   ],
   "source": [
    "missingno.bar(player_seasons_bref.loc[:,['playerID','player_ID']])"
   ]
  },
  {
   "attachments": {},
   "cell_type": "markdown",
   "metadata": {},
   "source": [
    "### Visualization \n",
    "\n",
    "Summary of data:\n",
    "\n",
    "\n",
    "player_seasons - dataframe of all player seasons with batting, pitching, and salary data\n",
    "\n",
    "\n",
    "team_seasons - dataframe of all team seasons with team salary and results"
   ]
  },
  {
   "cell_type": "code",
   "execution_count": null,
   "metadata": {},
   "outputs": [],
   "source": []
  }
 ],
 "metadata": {
  "kernelspec": {
   "display_name": "Python 3",
   "language": "python",
   "name": "python3"
  },
  "language_info": {
   "codemirror_mode": {
    "name": "ipython",
    "version": 3
   },
   "file_extension": ".py",
   "mimetype": "text/x-python",
   "name": "python",
   "nbconvert_exporter": "python",
   "pygments_lexer": "ipython3",
   "version": "3.9.5"
  },
  "orig_nbformat": 4,
  "vscode": {
   "interpreter": {
    "hash": "ee34c1b06d84f2635f3f1f6505124c2fe7926554ae07dfe72f560a4dcf624364"
   }
  }
 },
 "nbformat": 4,
 "nbformat_minor": 2
}
